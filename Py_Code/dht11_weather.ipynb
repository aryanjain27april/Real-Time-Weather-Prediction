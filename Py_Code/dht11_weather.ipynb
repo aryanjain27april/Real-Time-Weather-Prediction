{
  "nbformat": 4,
  "nbformat_minor": 0,
  "metadata": {
    "accelerator": "GPU",
    "colab": {
      "provenance": []
    },
    "kernelspec": {
      "display_name": "Python 3",
      "name": "python3"
    }
  },
  "cells": [
    {
      "cell_type": "markdown",
      "metadata": {
        "id": "VX6Kr1AyMCi4"
      },
      "source": [
        "# Analyse"
      ]
    },
    {
      "cell_type": "code",
      "metadata": {
        "id": "BvrtlDJ2MgR7"
      },
      "source": [
        "import pandas as pd\n",
        "import matplotlib.pyplot as plt\n",
        "import numpy as np"
      ],
      "execution_count": null,
      "outputs": []
    },
    {
      "cell_type": "code",
      "metadata": {
        "colab": {
          "base_uri": "https://localhost:8080/",
          "height": 300
        },
        "id": "_vzmSWu8LiaF",
        "outputId": "a60fa478-05a9-473e-bc1e-9ce64cd21e97"
      },
      "source": [
        "df=pd.read_csv(\"dht.csv\")\n",
        "df.describe()"
      ],
      "execution_count": null,
      "outputs": [
        {
          "output_type": "execute_result",
          "data": {
            "text/html": [
              "<div>\n",
              "<style scoped>\n",
              "    .dataframe tbody tr th:only-of-type {\n",
              "        vertical-align: middle;\n",
              "    }\n",
              "\n",
              "    .dataframe tbody tr th {\n",
              "        vertical-align: top;\n",
              "    }\n",
              "\n",
              "    .dataframe thead th {\n",
              "        text-align: right;\n",
              "    }\n",
              "</style>\n",
              "<table border=\"1\" class=\"dataframe\">\n",
              "  <thead>\n",
              "    <tr style=\"text-align: right;\">\n",
              "      <th></th>\n",
              "      <th>id</th>\n",
              "      <th>Temp</th>\n",
              "      <th>Humidity</th>\n",
              "      <th>label</th>\n",
              "    </tr>\n",
              "  </thead>\n",
              "  <tbody>\n",
              "    <tr>\n",
              "      <th>count</th>\n",
              "      <td>27299.000000</td>\n",
              "      <td>27299.000000</td>\n",
              "      <td>27299.000000</td>\n",
              "      <td>27299.000000</td>\n",
              "    </tr>\n",
              "    <tr>\n",
              "      <th>mean</th>\n",
              "      <td>13649.999853</td>\n",
              "      <td>22.628939</td>\n",
              "      <td>59.495366</td>\n",
              "      <td>2.355031</td>\n",
              "    </tr>\n",
              "    <tr>\n",
              "      <th>std</th>\n",
              "      <td>7880.686739</td>\n",
              "      <td>4.890451</td>\n",
              "      <td>26.574806</td>\n",
              "      <td>2.158163</td>\n",
              "    </tr>\n",
              "    <tr>\n",
              "      <th>min</th>\n",
              "      <td>1.000000</td>\n",
              "      <td>13.500000</td>\n",
              "      <td>6.000000</td>\n",
              "      <td>0.000000</td>\n",
              "    </tr>\n",
              "    <tr>\n",
              "      <th>25%</th>\n",
              "      <td>6825.500000</td>\n",
              "      <td>18.800000</td>\n",
              "      <td>37.000000</td>\n",
              "      <td>0.000000</td>\n",
              "    </tr>\n",
              "    <tr>\n",
              "      <th>50%</th>\n",
              "      <td>13650.000000</td>\n",
              "      <td>21.900000</td>\n",
              "      <td>61.000000</td>\n",
              "      <td>4.000000</td>\n",
              "    </tr>\n",
              "    <tr>\n",
              "      <th>75%</th>\n",
              "      <td>20474.500000</td>\n",
              "      <td>26.100000</td>\n",
              "      <td>86.000000</td>\n",
              "      <td>4.000000</td>\n",
              "    </tr>\n",
              "    <tr>\n",
              "      <th>max</th>\n",
              "      <td>27299.000000</td>\n",
              "      <td>46.500000</td>\n",
              "      <td>93.000000</td>\n",
              "      <td>6.000000</td>\n",
              "    </tr>\n",
              "  </tbody>\n",
              "</table>\n",
              "</div>"
            ],
            "text/plain": [
              "                 id          Temp      Humidity         label\n",
              "count  27299.000000  27299.000000  27299.000000  27299.000000\n",
              "mean   13649.999853     22.628939     59.495366      2.355031\n",
              "std     7880.686739      4.890451     26.574806      2.158163\n",
              "min        1.000000     13.500000      6.000000      0.000000\n",
              "25%     6825.500000     18.800000     37.000000      0.000000\n",
              "50%    13650.000000     21.900000     61.000000      4.000000\n",
              "75%    20474.500000     26.100000     86.000000      4.000000\n",
              "max    27299.000000     46.500000     93.000000      6.000000"
            ]
          },
          "metadata": {},
          "execution_count": 2
        }
      ]
    },
    {
      "cell_type": "code",
      "metadata": {
        "colab": {
          "base_uri": "https://localhost:8080/",
          "height": 206
        },
        "id": "7mUg7HHMLo8P",
        "outputId": "88dc1ffb-b97c-4d54-8396-c5d6602c4064"
      },
      "source": [
        "df.head()"
      ],
      "execution_count": null,
      "outputs": [
        {
          "output_type": "execute_result",
          "data": {
            "text/html": [
              "<div>\n",
              "<style scoped>\n",
              "    .dataframe tbody tr th:only-of-type {\n",
              "        vertical-align: middle;\n",
              "    }\n",
              "\n",
              "    .dataframe tbody tr th {\n",
              "        vertical-align: top;\n",
              "    }\n",
              "\n",
              "    .dataframe thead th {\n",
              "        text-align: right;\n",
              "    }\n",
              "</style>\n",
              "<table border=\"1\" class=\"dataframe\">\n",
              "  <thead>\n",
              "    <tr style=\"text-align: right;\">\n",
              "      <th></th>\n",
              "      <th>id</th>\n",
              "      <th>Date</th>\n",
              "      <th>Time</th>\n",
              "      <th>Temp</th>\n",
              "      <th>Humidity</th>\n",
              "      <th>label</th>\n",
              "    </tr>\n",
              "  </thead>\n",
              "  <tbody>\n",
              "    <tr>\n",
              "      <th>0</th>\n",
              "      <td>1</td>\n",
              "      <td>23-01-2021</td>\n",
              "      <td>13:59:44</td>\n",
              "      <td>25.6</td>\n",
              "      <td>63</td>\n",
              "      <td>0</td>\n",
              "    </tr>\n",
              "    <tr>\n",
              "      <th>1</th>\n",
              "      <td>2</td>\n",
              "      <td>23-01-2021</td>\n",
              "      <td>14:00:45</td>\n",
              "      <td>25.5</td>\n",
              "      <td>62</td>\n",
              "      <td>0</td>\n",
              "    </tr>\n",
              "    <tr>\n",
              "      <th>2</th>\n",
              "      <td>3</td>\n",
              "      <td>23-01-2021</td>\n",
              "      <td>14:01:46</td>\n",
              "      <td>25.2</td>\n",
              "      <td>60</td>\n",
              "      <td>0</td>\n",
              "    </tr>\n",
              "    <tr>\n",
              "      <th>3</th>\n",
              "      <td>4</td>\n",
              "      <td>23-01-2021</td>\n",
              "      <td>14:02:47</td>\n",
              "      <td>25.0</td>\n",
              "      <td>60</td>\n",
              "      <td>0</td>\n",
              "    </tr>\n",
              "    <tr>\n",
              "      <th>4</th>\n",
              "      <td>5</td>\n",
              "      <td>23-01-2021</td>\n",
              "      <td>14:03:48</td>\n",
              "      <td>24.8</td>\n",
              "      <td>60</td>\n",
              "      <td>0</td>\n",
              "    </tr>\n",
              "  </tbody>\n",
              "</table>\n",
              "</div>"
            ],
            "text/plain": [
              "   id        Date      Time  Temp  Humidity  label\n",
              "0   1  23-01-2021  13:59:44  25.6        63      0\n",
              "1   2  23-01-2021  14:00:45  25.5        62      0\n",
              "2   3  23-01-2021  14:01:46  25.2        60      0\n",
              "3   4  23-01-2021  14:02:47  25.0        60      0\n",
              "4   5  23-01-2021  14:03:48  24.8        60      0"
            ]
          },
          "metadata": {},
          "execution_count": 3
        }
      ]
    },
    {
      "cell_type": "code",
      "metadata": {
        "colab": {
          "base_uri": "https://localhost:8080/",
          "height": 559
        },
        "id": "wIr2te_MNP6G",
        "outputId": "d100d864-cc38-4048-8334-a3ad99912557"
      },
      "source": [
        "df.plot(x='id',y='Humidity',kind='line')\n",
        "df.plot(x='id',y='Temp',kind='line')"
      ],
      "execution_count": null,
      "outputs": [
        {
          "output_type": "execute_result",
          "data": {
            "text/plain": [
              "<matplotlib.axes._subplots.AxesSubplot at 0x7f56262db210>"
            ]
          },
          "metadata": {},
          "execution_count": 4
        },
        {
          "output_type": "display_data",
          "data": {
            "image/png": "[encoded data removed]",
            "text/plain": [
              "<Figure size 432x288 with 1 Axes>"
            ]
          },
          "metadata": {
            "needs_background": "light"
          }
        },
        {
          "output_type": "display_data",
          "data": {
            "image/png": "[encoded data removed]",
            "text/plain": [
              "<Figure size 432x288 with 1 Axes>"
            ]
          },
          "metadata": {
            "needs_background": "light"
          }
        }
      ]
    },
    {
      "cell_type": "markdown",
      "metadata": {
        "id": "soTIFV2FLy5i"
      },
      "source": [
        "# Pre-Process"
      ]
    },
    {
      "cell_type": "code",
      "metadata": {
        "id": "EI_wR6tmP4eW"
      },
      "source": [
        "df.drop('id',axis=1,inplace=True)\n",
        "df.drop('Time',axis=1,inplace=True)\n",
        "df.drop('Date',axis=1,inplace=True)"
      ],
      "execution_count": null,
      "outputs": []
    },
    {
      "cell_type": "code",
      "metadata": {
        "colab": {
          "base_uri": "https://localhost:8080/",
          "height": 206
        },
        "id": "z5yUpQpJA3f-",
        "outputId": "2b9c07f1-2bb1-4cd4-b1be-8a19a83d127f"
      },
      "source": [
        "df.head()"
      ],
      "execution_count": null,
      "outputs": [
        {
          "output_type": "execute_result",
          "data": {
            "text/html": [
              "<div>\n",
              "<style scoped>\n",
              "    .dataframe tbody tr th:only-of-type {\n",
              "        vertical-align: middle;\n",
              "    }\n",
              "\n",
              "    .dataframe tbody tr th {\n",
              "        vertical-align: top;\n",
              "    }\n",
              "\n",
              "    .dataframe thead th {\n",
              "        text-align: right;\n",
              "    }\n",
              "</style>\n",
              "<table border=\"1\" class=\"dataframe\">\n",
              "  <thead>\n",
              "    <tr style=\"text-align: right;\">\n",
              "      <th></th>\n",
              "      <th>Temp</th>\n",
              "      <th>Humidity</th>\n",
              "      <th>label</th>\n",
              "    </tr>\n",
              "  </thead>\n",
              "  <tbody>\n",
              "    <tr>\n",
              "      <th>0</th>\n",
              "      <td>25.6</td>\n",
              "      <td>63</td>\n",
              "      <td>0</td>\n",
              "    </tr>\n",
              "    <tr>\n",
              "      <th>1</th>\n",
              "      <td>25.5</td>\n",
              "      <td>62</td>\n",
              "      <td>0</td>\n",
              "    </tr>\n",
              "    <tr>\n",
              "      <th>2</th>\n",
              "      <td>25.2</td>\n",
              "      <td>60</td>\n",
              "      <td>0</td>\n",
              "    </tr>\n",
              "    <tr>\n",
              "      <th>3</th>\n",
              "      <td>25.0</td>\n",
              "      <td>60</td>\n",
              "      <td>0</td>\n",
              "    </tr>\n",
              "    <tr>\n",
              "      <th>4</th>\n",
              "      <td>24.8</td>\n",
              "      <td>60</td>\n",
              "      <td>0</td>\n",
              "    </tr>\n",
              "  </tbody>\n",
              "</table>\n",
              "</div>"
            ],
            "text/plain": [
              "   Temp  Humidity  label\n",
              "0  25.6        63      0\n",
              "1  25.5        62      0\n",
              "2  25.2        60      0\n",
              "3  25.0        60      0\n",
              "4  24.8        60      0"
            ]
          },
          "metadata": {},
          "execution_count": 6
        }
      ]
    },
    {
      "cell_type": "code",
      "metadata": {
        "id": "YE7oqcCOTWD-"
      },
      "source": [
        "target=df['label']\n",
        "df.drop('label',axis=1,inplace=True)\n",
        "features=df"
      ],
      "execution_count": null,
      "outputs": []
    },
    {
      "cell_type": "code",
      "metadata": {
        "colab": {
          "base_uri": "https://localhost:8080/",
          "height": 423
        },
        "id": "A6W6SF5LCQnM",
        "outputId": "08fd5b5c-2e03-4788-86b1-2234deee6cdb"
      },
      "source": [
        "features"
      ],
      "execution_count": null,
      "outputs": [
        {
          "output_type": "execute_result",
          "data": {
            "text/html": [
              "<div>\n",
              "<style scoped>\n",
              "    .dataframe tbody tr th:only-of-type {\n",
              "        vertical-align: middle;\n",
              "    }\n",
              "\n",
              "    .dataframe tbody tr th {\n",
              "        vertical-align: top;\n",
              "    }\n",
              "\n",
              "    .dataframe thead th {\n",
              "        text-align: right;\n",
              "    }\n",
              "</style>\n",
              "<table border=\"1\" class=\"dataframe\">\n",
              "  <thead>\n",
              "    <tr style=\"text-align: right;\">\n",
              "      <th></th>\n",
              "      <th>Temp</th>\n",
              "      <th>Humidity</th>\n",
              "    </tr>\n",
              "  </thead>\n",
              "  <tbody>\n",
              "    <tr>\n",
              "      <th>0</th>\n",
              "      <td>25.6</td>\n",
              "      <td>63</td>\n",
              "    </tr>\n",
              "    <tr>\n",
              "      <th>1</th>\n",
              "      <td>25.5</td>\n",
              "      <td>62</td>\n",
              "    </tr>\n",
              "    <tr>\n",
              "      <th>2</th>\n",
              "      <td>25.2</td>\n",
              "      <td>60</td>\n",
              "    </tr>\n",
              "    <tr>\n",
              "      <th>3</th>\n",
              "      <td>25.0</td>\n",
              "      <td>60</td>\n",
              "    </tr>\n",
              "    <tr>\n",
              "      <th>4</th>\n",
              "      <td>24.8</td>\n",
              "      <td>60</td>\n",
              "    </tr>\n",
              "    <tr>\n",
              "      <th>...</th>\n",
              "      <td>...</td>\n",
              "      <td>...</td>\n",
              "    </tr>\n",
              "    <tr>\n",
              "      <th>27294</th>\n",
              "      <td>28.5</td>\n",
              "      <td>21</td>\n",
              "    </tr>\n",
              "    <tr>\n",
              "      <th>27295</th>\n",
              "      <td>28.5</td>\n",
              "      <td>22</td>\n",
              "    </tr>\n",
              "    <tr>\n",
              "      <th>27296</th>\n",
              "      <td>28.5</td>\n",
              "      <td>24</td>\n",
              "    </tr>\n",
              "    <tr>\n",
              "      <th>27297</th>\n",
              "      <td>28.4</td>\n",
              "      <td>21</td>\n",
              "    </tr>\n",
              "    <tr>\n",
              "      <th>27298</th>\n",
              "      <td>28.4</td>\n",
              "      <td>24</td>\n",
              "    </tr>\n",
              "  </tbody>\n",
              "</table>\n",
              "<p>27299 rows × 2 columns</p>\n",
              "</div>"
            ],
            "text/plain": [
              "       Temp  Humidity\n",
              "0      25.6        63\n",
              "1      25.5        62\n",
              "2      25.2        60\n",
              "3      25.0        60\n",
              "4      24.8        60\n",
              "...     ...       ...\n",
              "27294  28.5        21\n",
              "27295  28.5        22\n",
              "27296  28.5        24\n",
              "27297  28.4        21\n",
              "27298  28.4        24\n",
              "\n",
              "[27299 rows x 2 columns]"
            ]
          },
          "metadata": {},
          "execution_count": 8
        }
      ]
    },
    {
      "cell_type": "code",
      "metadata": {
        "colab": {
          "base_uri": "https://localhost:8080/"
        },
        "id": "RinU-QTjoO9W",
        "outputId": "b1e6ba15-cdd2-4818-d7a3-442795526374"
      },
      "source": [
        "target"
      ],
      "execution_count": null,
      "outputs": [
        {
          "output_type": "execute_result",
          "data": {
            "text/plain": [
              "0        0\n",
              "1        0\n",
              "2        0\n",
              "3        0\n",
              "4        0\n",
              "        ..\n",
              "27294    0\n",
              "27295    0\n",
              "27296    0\n",
              "27297    0\n",
              "27298    0\n",
              "Name: label, Length: 27299, dtype: int64"
            ]
          },
          "metadata": {},
          "execution_count": 9
        }
      ]
    },
    {
      "cell_type": "markdown",
      "metadata": {
        "id": "5Vj_BbGJLdcs"
      },
      "source": [
        "# ML Model"
      ]
    },
    {
      "cell_type": "code",
      "metadata": {
        "id": "njK44wBrT6O8"
      },
      "source": [
        "from sklearn.model_selection import train_test_split\n",
        "\n",
        "from sklearn.neighbors import KNeighborsClassifier\n",
        "from sklearn.linear_model import LogisticRegression\n",
        "from sklearn.ensemble import RandomForestClassifier\n",
        "\n",
        "from sklearn.metrics import accuracy_score"
      ],
      "execution_count": null,
      "outputs": []
    },
    {
      "cell_type": "code",
      "metadata": {
        "id": "KtA2XimMUlOm"
      },
      "source": [
        "X_train , X_test , Y_train , Y_test = train_test_split(features,target,random_state=42,shuffle=True,)\n",
        "# by default --> training data = 70%"
      ],
      "execution_count": null,
      "outputs": []
    },
    {
      "cell_type": "code",
      "metadata": {
        "id": "e0UhY-zKpRo5",
        "colab": {
          "base_uri": "https://localhost:8080/",
          "height": 423
        },
        "outputId": "1b567fec-bfd8-411c-e430-401c84dc8540"
      },
      "source": [
        "X_train"
      ],
      "execution_count": null,
      "outputs": [
        {
          "output_type": "execute_result",
          "data": {
            "text/html": [
              "<div>\n",
              "<style scoped>\n",
              "    .dataframe tbody tr th:only-of-type {\n",
              "        vertical-align: middle;\n",
              "    }\n",
              "\n",
              "    .dataframe tbody tr th {\n",
              "        vertical-align: top;\n",
              "    }\n",
              "\n",
              "    .dataframe thead th {\n",
              "        text-align: right;\n",
              "    }\n",
              "</style>\n",
              "<table border=\"1\" class=\"dataframe\">\n",
              "  <thead>\n",
              "    <tr style=\"text-align: right;\">\n",
              "      <th></th>\n",
              "      <th>Temp</th>\n",
              "      <th>Humidity</th>\n",
              "    </tr>\n",
              "  </thead>\n",
              "  <tbody>\n",
              "    <tr>\n",
              "      <th>2403</th>\n",
              "      <td>20.5</td>\n",
              "      <td>80</td>\n",
              "    </tr>\n",
              "    <tr>\n",
              "      <th>7886</th>\n",
              "      <td>20.7</td>\n",
              "      <td>92</td>\n",
              "    </tr>\n",
              "    <tr>\n",
              "      <th>8629</th>\n",
              "      <td>28.1</td>\n",
              "      <td>39</td>\n",
              "    </tr>\n",
              "    <tr>\n",
              "      <th>878</th>\n",
              "      <td>27.1</td>\n",
              "      <td>35</td>\n",
              "    </tr>\n",
              "    <tr>\n",
              "      <th>22300</th>\n",
              "      <td>19.1</td>\n",
              "      <td>63</td>\n",
              "    </tr>\n",
              "    <tr>\n",
              "      <th>...</th>\n",
              "      <td>...</td>\n",
              "      <td>...</td>\n",
              "    </tr>\n",
              "    <tr>\n",
              "      <th>21575</th>\n",
              "      <td>24.2</td>\n",
              "      <td>55</td>\n",
              "    </tr>\n",
              "    <tr>\n",
              "      <th>5390</th>\n",
              "      <td>18.4</td>\n",
              "      <td>88</td>\n",
              "    </tr>\n",
              "    <tr>\n",
              "      <th>860</th>\n",
              "      <td>27.3</td>\n",
              "      <td>33</td>\n",
              "    </tr>\n",
              "    <tr>\n",
              "      <th>15795</th>\n",
              "      <td>26.7</td>\n",
              "      <td>32</td>\n",
              "    </tr>\n",
              "    <tr>\n",
              "      <th>23654</th>\n",
              "      <td>18.5</td>\n",
              "      <td>78</td>\n",
              "    </tr>\n",
              "  </tbody>\n",
              "</table>\n",
              "<p>20474 rows × 2 columns</p>\n",
              "</div>"
            ],
            "text/plain": [
              "       Temp  Humidity\n",
              "2403   20.5        80\n",
              "7886   20.7        92\n",
              "8629   28.1        39\n",
              "878    27.1        35\n",
              "22300  19.1        63\n",
              "...     ...       ...\n",
              "21575  24.2        55\n",
              "5390   18.4        88\n",
              "860    27.3        33\n",
              "15795  26.7        32\n",
              "23654  18.5        78\n",
              "\n",
              "[20474 rows x 2 columns]"
            ]
          },
          "metadata": {},
          "execution_count": 12
        }
      ]
    },
    {
      "cell_type": "markdown",
      "metadata": {
        "id": "pekY57_KDv8E"
      },
      "source": [
        "##1) KNN"
      ]
    },
    {
      "cell_type": "code",
      "metadata": {
        "id": "u8C2CiPKpYxB"
      },
      "source": [
        "knn = KNeighborsClassifier(n_neighbors=5)"
      ],
      "execution_count": null,
      "outputs": []
    },
    {
      "cell_type": "code",
      "metadata": {
        "id": "kvJBDLJfpi8e"
      },
      "source": [
        "knn = knn.fit(X_train,Y_train)"
      ],
      "execution_count": null,
      "outputs": []
    },
    {
      "cell_type": "code",
      "metadata": {
        "id": "7WhEeUAoppWG"
      },
      "source": [
        "Y_pred=knn.predict(X_test)"
      ],
      "execution_count": null,
      "outputs": []
    },
    {
      "cell_type": "code",
      "metadata": {
        "id": "cBkV3rqEpz1f",
        "colab": {
          "base_uri": "https://localhost:8080/"
        },
        "outputId": "4ce6ed65-a563-4795-ca1c-f4e481616f12"
      },
      "source": [
        "accuracy_score(Y_test,Y_pred)"
      ],
      "execution_count": null,
      "outputs": [
        {
          "output_type": "execute_result",
          "data": {
            "text/plain": [
              "0.8613919413919414"
            ]
          },
          "metadata": {},
          "execution_count": 16
        }
      ]
    },
    {
      "cell_type": "code",
      "metadata": {
        "id": "LTCO-xlnr2p4",
        "colab": {
          "base_uri": "https://localhost:8080/"
        },
        "outputId": "35a35772-b249-4da7-901b-05e93f5dd4ef"
      },
      "source": [
        "knn.predict([[29,51]])"
      ],
      "execution_count": null,
      "outputs": [
        {
          "output_type": "stream",
          "name": "stderr",
          "text": [
            "/usr/local/lib/python3.7/dist-packages/sklearn/base.py:446: UserWarning: X does not have valid feature names, but KNeighborsClassifier was fitted with feature names\n",
            "  \"X does not have valid feature names, but\"\n"
          ]
        },
        {
          "output_type": "execute_result",
          "data": {
            "text/plain": [
              "array([0])"
            ]
          },
          "metadata": {},
          "execution_count": 17
        }
      ]
    },
    {
      "cell_type": "code",
      "metadata": {
        "id": "u34Btl2pxR2X",
        "colab": {
          "base_uri": "https://localhost:8080/",
          "height": 1000
        },
        "outputId": "c1873c1e-c7d7-4b82-860c-5de30d2c2ca2"
      },
      "source": [
        "acc=[]\n",
        "xn=50\n",
        "for n in range(1,xn):\n",
        "    knn1 = KNeighborsClassifier(n_neighbors=n)\n",
        "    knn1 = knn1.fit(X_train,Y_train)\n",
        "    y_pred=knn1.predict(X_test)\n",
        "    a= accuracy_score(Y_test,y_pred)\n",
        "    acc.append(a)\n",
        "    print('With ',n,' neighbors the acc is ',a)\n",
        "plt.plot([a for a in range(1,xn)],acc)\n",
        "print(\"\\n\",'The Max acc is achieved at neighbour:\\n n=',(acc.index(max(acc))+1))"
      ],
      "execution_count": null,
      "outputs": [
        {
          "output_type": "stream",
          "name": "stdout",
          "text": [
            "With  1  neighbors the acc is  0.8361904761904762\n",
            "With  2  neighbors the acc is  0.8361904761904762\n",
            "With  3  neighbors the acc is  0.853040293040293\n",
            "With  4  neighbors the acc is  0.8565567765567765\n",
            "With  5  neighbors the acc is  0.8613919413919414\n",
            "With  6  neighbors the acc is  0.8621245421245421\n",
            "With  7  neighbors the acc is  0.8627106227106227\n",
            "With  8  neighbors the acc is  0.8657875457875458\n",
            "With  9  neighbors the acc is  0.8647619047619047\n",
            "With  10  neighbors the acc is  0.869010989010989\n",
            "With  11  neighbors the acc is  0.8726739926739927\n",
            "With  12  neighbors the acc is  0.8753113553113553\n",
            "With  13  neighbors the acc is  0.8738461538461538\n",
            "With  14  neighbors the acc is  0.8742857142857143\n",
            "With  15  neighbors the acc is  0.8720879120879121\n",
            "With  16  neighbors the acc is  0.8726739926739927\n",
            "With  17  neighbors the acc is  0.8720879120879121\n",
            "With  18  neighbors the acc is  0.8735531135531136\n",
            "With  19  neighbors the acc is  0.8735531135531136\n",
            "With  20  neighbors the acc is  0.8741391941391942\n",
            "With  21  neighbors the acc is  0.8734065934065934\n",
            "With  22  neighbors the acc is  0.8744322344322344\n",
            "With  23  neighbors the acc is  0.8720879120879121\n",
            "With  24  neighbors the acc is  0.8736996336996337\n",
            "With  25  neighbors the acc is  0.8720879120879121\n",
            "With  26  neighbors the acc is  0.8710622710622711\n",
            "With  27  neighbors the acc is  0.8704761904761905\n",
            "With  28  neighbors the acc is  0.8704761904761905\n",
            "With  29  neighbors the acc is  0.869010989010989\n",
            "With  30  neighbors the acc is  0.8698901098901098\n",
            "With  31  neighbors the acc is  0.87003663003663\n",
            "With  32  neighbors the acc is  0.869010989010989\n",
            "With  33  neighbors the acc is  0.8687179487179487\n",
            "With  34  neighbors the acc is  0.8684249084249084\n",
            "With  35  neighbors the acc is  0.8695970695970696\n",
            "With  36  neighbors the acc is  0.8691575091575091\n",
            "With  37  neighbors the acc is  0.8698901098901098\n",
            "With  38  neighbors the acc is  0.8693040293040293\n",
            "With  39  neighbors the acc is  0.8698901098901098\n",
            "With  40  neighbors the acc is  0.8688644688644689\n",
            "With  41  neighbors the acc is  0.8687179487179487\n",
            "With  42  neighbors the acc is  0.8687179487179487\n",
            "With  43  neighbors the acc is  0.8687179487179487\n",
            "With  44  neighbors the acc is  0.8681318681318682\n",
            "With  45  neighbors the acc is  0.867985347985348\n",
            "With  46  neighbors the acc is  0.8665201465201465\n",
            "With  47  neighbors the acc is  0.8671062271062271\n",
            "With  48  neighbors the acc is  0.8657875457875458\n",
            "With  49  neighbors the acc is  0.8669597069597069\n",
            "\n",
            " The Max acc is achieved at neighbour:\n",
            " n= 12\n"
          ]
        },
        {
          "output_type": "display_data",
          "data": {
            "image/png": "[encoded data removed]",
            "text/plain": [
              "<Figure size 432x288 with 1 Axes>"
            ]
          },
          "metadata": {
            "needs_background": "light"
          }
        }
      ]
    },
    {
      "cell_type": "markdown",
      "metadata": {
        "id": "iKXNizN_EhXH"
      },
      "source": [
        "##2) Logistic Regression"
      ]
    },
    {
      "cell_type": "code",
      "metadata": {
        "id": "hheABrGSvB4b",
        "colab": {
          "base_uri": "https://localhost:8080/"
        },
        "outputId": "66f9653a-fcb1-48d9-998b-8f5e24476c56"
      },
      "source": [
        "reg = LogisticRegression().fit(X_train,Y_train)"
      ],
      "execution_count": null,
      "outputs": [
        {
          "output_type": "stream",
          "name": "stderr",
          "text": [
            "/usr/local/lib/python3.7/dist-packages/sklearn/linear_model/_logistic.py:818: ConvergenceWarning: lbfgs failed to converge (status=1):\n",
            "STOP: TOTAL NO. of ITERATIONS REACHED LIMIT.\n",
            "\n",
            "Increase the number of iterations (max_iter) or scale the data as shown in:\n",
            "    https://scikit-learn.org/stable/modules/preprocessing.html\n",
            "Please also refer to the documentation for alternative solver options:\n",
            "    https://scikit-learn.org/stable/modules/linear_model.html#logistic-regression\n",
            "  extra_warning_msg=_LOGISTIC_SOLVER_CONVERGENCE_MSG,\n"
          ]
        }
      ]
    },
    {
      "cell_type": "code",
      "metadata": {
        "id": "I3A95hUXvB1Y"
      },
      "source": [
        "Y_pred = reg.predict(X_test)"
      ],
      "execution_count": null,
      "outputs": []
    },
    {
      "cell_type": "code",
      "metadata": {
        "id": "jhjsC9f3vBqV",
        "colab": {
          "base_uri": "https://localhost:8080/"
        },
        "outputId": "0c48278f-dd79-4c2c-a5db-20bae4356d2e"
      },
      "source": [
        "accuracy_score(Y_test,Y_pred)"
      ],
      "execution_count": null,
      "outputs": [
        {
          "output_type": "execute_result",
          "data": {
            "text/plain": [
              "0.8455677655677656"
            ]
          },
          "metadata": {},
          "execution_count": 21
        }
      ]
    },
    {
      "cell_type": "code",
      "metadata": {
        "id": "TVSyuXQOvBoG",
        "colab": {
          "base_uri": "https://localhost:8080/"
        },
        "outputId": "a552b498-112a-4660-b832-d9f3a4b16e3b"
      },
      "source": [
        "reg.predict([[29,51]])"
      ],
      "execution_count": null,
      "outputs": [
        {
          "output_type": "stream",
          "name": "stderr",
          "text": [
            "/usr/local/lib/python3.7/dist-packages/sklearn/base.py:446: UserWarning: X does not have valid feature names, but LogisticRegression was fitted with feature names\n",
            "  \"X does not have valid feature names, but\"\n"
          ]
        },
        {
          "output_type": "execute_result",
          "data": {
            "text/plain": [
              "array([0])"
            ]
          },
          "metadata": {},
          "execution_count": 22
        }
      ]
    },
    {
      "cell_type": "markdown",
      "metadata": {
        "id": "E6v5qBMxErYR"
      },
      "source": [
        "##3) Random Forest"
      ]
    },
    {
      "cell_type": "code",
      "metadata": {
        "id": "K-YYZfO1wapY",
        "colab": {
          "base_uri": "https://localhost:8080/"
        },
        "outputId": "2794c025-3448-423e-e963-ebb8804c89dd"
      },
      "source": [
        "rf = RandomForestClassifier(max_depth=2, random_state=0)\n",
        "rf.fit(X_train,Y_train)"
      ],
      "execution_count": null,
      "outputs": [
        {
          "output_type": "execute_result",
          "data": {
            "text/plain": [
              "RandomForestClassifier(max_depth=2, random_state=0)"
            ]
          },
          "metadata": {},
          "execution_count": 23
        }
      ]
    },
    {
      "cell_type": "code",
      "metadata": {
        "id": "AZFro4e7wame"
      },
      "source": [
        "Y_pred = rf.predict(X_test)"
      ],
      "execution_count": null,
      "outputs": []
    },
    {
      "cell_type": "code",
      "metadata": {
        "id": "g0gv9KQ0waj3",
        "colab": {
          "base_uri": "https://localhost:8080/"
        },
        "outputId": "8551be99-d16c-4e8c-f764-6480508143cb"
      },
      "source": [
        "accuracy_score(Y_test,Y_pred)"
      ],
      "execution_count": null,
      "outputs": [
        {
          "output_type": "execute_result",
          "data": {
            "text/plain": [
              "0.8531868131868132"
            ]
          },
          "metadata": {},
          "execution_count": 25
        }
      ]
    },
    {
      "cell_type": "code",
      "metadata": {
        "id": "hnNpaz-4J0su",
        "colab": {
          "base_uri": "https://localhost:8080/"
        },
        "outputId": "725f75fd-89fd-49af-e622-6507940f646c"
      },
      "source": [
        "rf.predict([[29,51]])"
      ],
      "execution_count": null,
      "outputs": [
        {
          "output_type": "stream",
          "name": "stderr",
          "text": [
            "/usr/local/lib/python3.7/dist-packages/sklearn/base.py:446: UserWarning: X does not have valid feature names, but RandomForestClassifier was fitted with feature names\n",
            "  \"X does not have valid feature names, but\"\n"
          ]
        },
        {
          "output_type": "execute_result",
          "data": {
            "text/plain": [
              "array([0])"
            ]
          },
          "metadata": {},
          "execution_count": 26
        }
      ]
    },
    {
      "cell_type": "code",
      "metadata": {
        "colab": {
          "base_uri": "https://localhost:8080/",
          "height": 821
        },
        "id": "hoHitR-jvBgO",
        "outputId": "111c4730-0b7d-45a1-ba83-adbfb875350d"
      },
      "source": [
        "acc=[]\n",
        "xn=30\n",
        "for n in range(1,xn):\n",
        "    rf1 = RandomForestClassifier(max_depth=n, random_state=0)\n",
        "    rf1 = rf1.fit(X_train,Y_train)\n",
        "    y_pred=rf1.predict(X_test)\n",
        "    a= accuracy_score(Y_test,y_pred)\n",
        "    acc.append(a)\n",
        "    print('With ',n,' depth of Random Forest the acc is ',a)\n",
        "plt.plot([a for a in range(1,xn)],acc)\n",
        "print(\"\\n\",'The Max acc is achieved at depth:\\n n=',(acc.index(max(acc))+1))"
      ],
      "execution_count": null,
      "outputs": [
        {
          "output_type": "stream",
          "name": "stdout",
          "text": [
            "With  1  depth of Random Forest the acc is  0.8524542124542125\n",
            "With  2  depth of Random Forest the acc is  0.8531868131868132\n",
            "With  3  depth of Random Forest the acc is  0.8531868131868132\n",
            "With  4  depth of Random Forest the acc is  0.8606593406593407\n",
            "With  5  depth of Random Forest the acc is  0.8641758241758242\n",
            "With  6  depth of Random Forest the acc is  0.8666666666666667\n",
            "With  7  depth of Random Forest the acc is  0.87003663003663\n",
            "With  8  depth of Random Forest the acc is  0.8734065934065934\n",
            "With  9  depth of Random Forest the acc is  0.8764835164835165\n",
            "With  10  depth of Random Forest the acc is  0.877948717948718\n",
            "With  11  depth of Random Forest the acc is  0.8776556776556776\n",
            "With  12  depth of Random Forest the acc is  0.8776556776556776\n",
            "With  13  depth of Random Forest the acc is  0.8764835164835165\n",
            "With  14  depth of Random Forest the acc is  0.8764835164835165\n",
            "With  15  depth of Random Forest the acc is  0.8754578754578755\n",
            "With  16  depth of Random Forest the acc is  0.8758974358974358\n",
            "With  17  depth of Random Forest the acc is  0.8748717948717949\n",
            "With  18  depth of Random Forest the acc is  0.8747252747252747\n",
            "With  19  depth of Random Forest the acc is  0.8747252747252747\n",
            "With  20  depth of Random Forest the acc is  0.8750183150183151\n",
            "With  21  depth of Random Forest the acc is  0.8747252747252747\n",
            "With  22  depth of Random Forest the acc is  0.8753113553113553\n",
            "With  23  depth of Random Forest the acc is  0.8748717948717949\n",
            "With  24  depth of Random Forest the acc is  0.8745787545787546\n",
            "With  25  depth of Random Forest the acc is  0.8744322344322344\n",
            "With  26  depth of Random Forest the acc is  0.8747252747252747\n",
            "With  27  depth of Random Forest the acc is  0.8747252747252747\n",
            "With  28  depth of Random Forest the acc is  0.8747252747252747\n",
            "With  29  depth of Random Forest the acc is  0.8747252747252747\n",
            "\n",
            " The Max acc is achieved at depth:\n",
            " n= 10\n"
          ]
        },
        {
          "output_type": "display_data",
          "data": {
            "image/png": "[encoded data removed]",
            "text/plain": [
              "<Figure size 432x288 with 1 Axes>"
            ]
          },
          "metadata": {
            "needs_background": "light"
          }
        }
      ]
    }
  ]
}